{
 "cells": [
  {
   "cell_type": "markdown",
   "metadata": {},
   "source": [
    "# ДЗ 4\n",
    "\n",
    "Дописать свой метод predict внутри нейронной сети.\n",
    "\n",
    "Протестировать на новых данных, которых не было в обучении."
   ]
  },
  {
   "cell_type": "code",
   "execution_count": 1,
   "metadata": {},
   "outputs": [],
   "source": [
    "import numpy as np"
   ]
  },
  {
   "cell_type": "code",
   "execution_count": 2,
   "metadata": {},
   "outputs": [],
   "source": [
    "def sigmoid(x):\n",
    "    \"\"\"\n",
    "    f(x) = 1 / (1 + e^(-x))\n",
    "    \"\"\"\n",
    "    return 1 / (1 + np.exp(-x))\n",
    "\n",
    "\n",
    "def derivSigmoid(x):\n",
    "    \"\"\"\n",
    "    Производная сигмоиды:\\n\n",
    "    f'(x) = f(x) * (1 - f(x))\n",
    "    \"\"\"\n",
    "    fx = sigmoid(x)\n",
    "    return fx * (1 - fx)"
   ]
  },
  {
   "cell_type": "code",
   "execution_count": 25,
   "metadata": {},
   "outputs": [],
   "source": [
    "LEARN_RATE = 0.05\n",
    "EPOCHS_NUM = 50\n",
    "LOG_INTERVAL = 1"
   ]
  },
  {
   "cell_type": "code",
   "execution_count": 4,
   "metadata": {},
   "outputs": [],
   "source": [
    "class Neuron:\n",
    "    def __init__(self, inputsNum):\n",
    "        self.activeFunc = sigmoid\n",
    "        self.derivFunc = derivSigmoid\n",
    "        \n",
    "        self.weights = np.array([\n",
    "            np.random.normal()\n",
    "            for _ in range(inputsNum)\n",
    "        ])\n",
    "        self.bias = np.random.normal()\n",
    "\n",
    "    @property\n",
    "    def total(self):\n",
    "        \"\"\"\n",
    "        Сумма произведений входов на веса + порог\n",
    "        \"\"\"\n",
    "        return np.dot(self.weights, self.x) + self.bias\n",
    "    \n",
    "    def feedForward(self, x):\n",
    "        \"\"\"\n",
    "        Расчёт выхода\n",
    "        \"\"\"\n",
    "        self.x = x\n",
    "        return self.activeFunc(self.total)\n",
    "    \n",
    "    @property\n",
    "    def dh_dw_list(self):\n",
    "        \"\"\"\n",
    "        Производная выхода нейрона от вх. весов\n",
    "        \"\"\"\n",
    "        return np.hstack([self.x, [1]]) * self.derivFunc(self.total)\n",
    "    \n",
    "    @property\n",
    "    def dYp_dh_list(self):\n",
    "        \"\"\"\n",
    "        Производная выхода сети от выходов предш. нейронов\n",
    "        \"\"\"\n",
    "        return self.weights * self.derivFunc(self.total)"
   ]
  },
  {
   "cell_type": "code",
   "execution_count": 26,
   "metadata": {},
   "outputs": [],
   "source": [
    "class OurNeuralNetwork:\n",
    "    def __init__(self):\n",
    "        self.h1 = Neuron(2)\n",
    "        self.h2 = Neuron(2)\n",
    "        self.o1 = Neuron(2)\n",
    "\n",
    "    def feedForward(self, x):\n",
    "        h1_o = self.h1.feedForward(x)\n",
    "        h2_o = self.h2.feedForward(x)\n",
    "        o1 = self.o1.feedForward([h1_o, h2_o])\n",
    "\n",
    "        return o1\n",
    "\n",
    "    def train(self, trainData, trueVals):\n",
    "        metrics = [] # для сохранения значений ошибок\n",
    "\n",
    "        for epoch in range(EPOCHS_NUM):\n",
    "            for x, y_t in zip(trainData, trueVals):\n",
    "                y_p = self.feedForward(x)\n",
    "                dL_dYp = -2 * (y_t - y_p)\n",
    "                dYp_dh = self.o1.dYp_dh_list\n",
    "                \n",
    "                h1_corr = self.h1.dh_dw_list * dYp_dh[0] * dL_dYp * LEARN_RATE\n",
    "                self.h1.weights -= h1_corr[:-1]\n",
    "                self.h1.bias -= h1_corr[-1]\n",
    "\n",
    "                h2_corr = self.h2.dh_dw_list * dYp_dh[1] * dL_dYp * LEARN_RATE\n",
    "                self.h2.weights -= h2_corr[:-1]\n",
    "                self.h2.bias -= h2_corr[-1]\n",
    "                \n",
    "                o1_corr = self.o1.dh_dw_list * dL_dYp * LEARN_RATE\n",
    "                self.o1.weights -= o1_corr[:-1]\n",
    "                self.o1.bias -= o1_corr[-1]\n",
    "\n",
    "            if epoch % LOG_INTERVAL == 0:\n",
    "                y_p_List = np.apply_along_axis(self.feedForward, 1, trainData)\n",
    "                metrics.append(((trueVals - y_p_List) ** 2).mean())\n",
    "        \n",
    "        return metrics"
   ]
  },
  {
   "cell_type": "code",
   "execution_count": 27,
   "metadata": {},
   "outputs": [],
   "source": [
    "def shiftData():\n",
    "    meanVals = []\n",
    "    def inner(data, train = False):\n",
    "        nonlocal meanVals\n",
    "        if train:\n",
    "            meanVals = list(map(np.mean, zip(*data)))\n",
    "        for a in data:\n",
    "            for i, x in enumerate(a):\n",
    "                a[i] = x - meanVals[i]\n",
    "    return inner\n",
    "\n",
    "shiftData = shiftData()"
   ]
  },
  {
   "cell_type": "code",
   "execution_count": 14,
   "metadata": {},
   "outputs": [],
   "source": [
    "# Определим набор данных\n",
    "trainData = [\n",
    "    np.array([54.4, 165.1]),  # Алиса\n",
    "    np.array([65.44, 183]),   # Боб\n",
    "    np.array([62.2, 178]),   # Чарли\n",
    "    np.array([49, 152]),  # Диана\n",
    "]\n",
    "shiftData(trainData, train=True)\n",
    "\n",
    "y_t = np.array([\n",
    "    0,  # Алиса\n",
    "    1,  # Боб\n",
    "    1,  # Чарли\n",
    "    0,  # Диана\n",
    "])"
   ]
  },
  {
   "cell_type": "code",
   "execution_count": 30,
   "metadata": {},
   "outputs": [],
   "source": [
    "import csv\n",
    "\n",
    "def loadCSV(fileName):\n",
    "    with open(fileName, encoding=\"utf-8\") as inFile:\n",
    "        csvReader = csv.DictReader(inFile)\n",
    "        data = []\n",
    "        yList = []\n",
    "        for itemDict in csvReader:\n",
    "            data.append([float(itemDict['Height']), float(itemDict['Weight'])])\n",
    "            yList.append(1 if itemDict['Gender'] == \"Male\" else 0)\n",
    "        \n",
    "        return data, yList\n",
    "    \n",
    "trainData, y_t = loadCSV(\".\\\\weight-height1.csv\")\n",
    "shiftData(trainData, train=True)"
   ]
  },
  {
   "cell_type": "code",
   "execution_count": 35,
   "metadata": {},
   "outputs": [
    {
     "data": {
      "image/png": "[encoded data removed]",
      "text/plain": [
       "<Figure size 640x480 with 1 Axes>"
      ]
     },
     "metadata": {},
     "output_type": "display_data"
    }
   ],
   "source": [
    "import matplotlib.pyplot as plt\n",
    "\n",
    "network = OurNeuralNetwork()\n",
    "metrics = network.train(trainData, y_t)\n",
    "\n",
    "plt.plot(range(0, EPOCHS_NUM, LOG_INTERVAL), metrics)\n",
    "plt.xlabel(\"Эпохи\")\n",
    "plt.ylabel(\"Ошибка\")\n",
    "plt.title(\"Зависимость ошибки от эпохи обучения\")\n",
    "plt.show()"
   ]
  },
  {
   "cell_type": "code",
   "execution_count": 39,
   "metadata": {},
   "outputs": [
    {
     "name": "stdout",
     "output_type": "stream",
     "text": [
      "0.922   1\n",
      "0.486   0\n",
      "0.922   1\n",
      "0.922   1\n",
      "0.069   0\n",
      "0.922   1\n",
      "0.486   0\n",
      "0.922   1\n",
      "0.922   1\n",
      "0.057   0\n"
     ]
    }
   ],
   "source": [
    "testData = [\n",
    "    np.array([75, 179]),  # Михаил\n",
    "    np.array([54.7, 165]), # Анна\n",
    "    np.array([103.4, 182]), # Василий\n",
    "    np.array([83.7, 185]),  # Андрей\n",
    "    np.array([67, 158]),  # Дарья\n",
    "    np.array([62, 177]),  # Арсений\n",
    "    np.array([54.4, 165.1]),  # Алиса\n",
    "    np.array([65.44, 183]),   # Боб\n",
    "    np.array([62.2, 178]),   # Чарли\n",
    "    np.array([49, 152]),  # Диана\n",
    "]\n",
    "\n",
    "y_tt = np.array([\n",
    "    1,  # Михаил\n",
    "    0,  # Анна\n",
    "    1,  # Василий\n",
    "    1,  # Андрей\n",
    "    0,  # Дарья\n",
    "    1,  # Арсений\n",
    "    0,  # Алиса\n",
    "    1,  # Боб\n",
    "    1,  # Чарли\n",
    "    0,  # Диана\n",
    "])\n",
    "\n",
    "shiftData(testData)\n",
    "\n",
    "for i, x in enumerate(testData):\n",
    "    print(f\"{network.feedForward(x) :.3f}{y_tt[i] :>4}\")\n"
   ]
  }
 ],
 "metadata": {
  "kernelspec": {
   "display_name": ".venv",
   "language": "python",
   "name": "python3"
  },
  "language_info": {
   "codemirror_mode": {
    "name": "ipython",
    "version": 3
   },
   "file_extension": ".py",
   "mimetype": "text/x-python",
   "name": "python",
   "nbconvert_exporter": "python",
   "pygments_lexer": "ipython3",
   "version": "3.11.6"
  }
 },
 "nbformat": 4,
 "nbformat_minor": 2
}
