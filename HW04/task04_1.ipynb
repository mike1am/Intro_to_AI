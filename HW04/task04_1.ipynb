{
 "cells": [
  {
   "cell_type": "markdown",
   "metadata": {},
   "source": [
    "# ДЗ 4\n",
    "\n",
    "Дописать свой метод predict внутри нейронной сети.\n",
    "\n",
    "Протестировать на новых данных, которых не было в обучении."
   ]
  },
  {
   "cell_type": "code",
   "execution_count": 1,
   "metadata": {},
   "outputs": [],
   "source": [
    "import numpy as np"
   ]
  },
  {
   "cell_type": "code",
   "execution_count": 2,
   "metadata": {},
   "outputs": [],
   "source": [
    "def sigmoid(x):\n",
    "    \"\"\"\n",
    "    f(x) = 1 / (1 + e^(-x))\n",
    "    \"\"\"\n",
    "    return 1 / (1 + np.exp(-x))\n",
    "\n",
    "\n",
    "def derivSigmoid(x):\n",
    "    \"\"\"\n",
    "    Производная сигмоиды:\\n\n",
    "    f'(x) = f(x) * (1 - f(x))\n",
    "    \"\"\"\n",
    "    fx = sigmoid(x)\n",
    "    return fx * (1 - fx)"
   ]
  },
  {
   "cell_type": "code",
   "execution_count": 21,
   "metadata": {},
   "outputs": [],
   "source": [
    "LEARN_RATE = 0.05\n",
    "EPOCHS_NUM = 1000"
   ]
  },
  {
   "cell_type": "code",
   "execution_count": 4,
   "metadata": {},
   "outputs": [],
   "source": [
    "class Neuron:\n",
    "    def __init__(self, inputsNum):\n",
    "        self.activeFunc = sigmoid\n",
    "        self.derivFunc = derivSigmoid\n",
    "        \n",
    "        self.weights = np.array([\n",
    "            np.random.normal()\n",
    "            for _ in range(inputsNum)\n",
    "        ])\n",
    "        self.bias = np.random.normal()\n",
    "\n",
    "    @property\n",
    "    def total(self):\n",
    "        \"\"\"\n",
    "        Сумма произведений входов на веса + порог\n",
    "        \"\"\"\n",
    "        return np.dot(self.weights, self.x) + self.bias\n",
    "    \n",
    "    def feedForward(self, x):\n",
    "        \"\"\"\n",
    "        Расчёт выхода\n",
    "        \"\"\"\n",
    "        self.x = x\n",
    "        return self.activeFunc(self.total)\n",
    "    \n",
    "    @property\n",
    "    def dh_dw_list(self):\n",
    "        \"\"\"\n",
    "        Производная выхода нейрона от вх. весов\n",
    "        \"\"\"\n",
    "        return np.hstack([self.x, [1]]) * self.derivFunc(self.total)\n",
    "    \n",
    "    @property\n",
    "    def dYp_dh_list(self):\n",
    "        \"\"\"\n",
    "        Производная выхода сети от выходов предш. нейронов\n",
    "        \"\"\"\n",
    "        return self.weights * self.derivFunc(self.total)"
   ]
  },
  {
   "cell_type": "code",
   "execution_count": 5,
   "metadata": {},
   "outputs": [],
   "source": [
    "class OurNeuralNetwork:\n",
    "    def __init__(self):\n",
    "        self.h1 = Neuron(2)\n",
    "        self.h2 = Neuron(2)\n",
    "        self.o1 = Neuron(2)\n",
    "\n",
    "    def feedForward(self, x):\n",
    "        h1_o = self.h1.feedForward(x)\n",
    "        h2_o = self.h2.feedForward(x)\n",
    "        o1 = self.o1.feedForward([h1_o, h2_o])\n",
    "\n",
    "        return o1\n",
    "\n",
    "    def train(self, trainData, trueVals):\n",
    "        metrics = [] # для сохранения значений ошибок\n",
    "\n",
    "        for epoch in range(EPOCHS_NUM):\n",
    "            for x, y_t in zip(trainData, trueVals):\n",
    "                y_p = self.feedForward(x)\n",
    "                dL_dYp = -2 * (y_t - y_p)\n",
    "                dYp_dh = self.o1.dYp_dh_list\n",
    "                \n",
    "                h1_corr = self.h1.dh_dw_list * dYp_dh[0] * dL_dYp * LEARN_RATE\n",
    "                self.h1.weights -= h1_corr[:-1]\n",
    "                self.h1.bias -= h1_corr[-1]\n",
    "\n",
    "                h2_corr = self.h2.dh_dw_list * dYp_dh[1] * dL_dYp * LEARN_RATE\n",
    "                self.h2.weights -= h2_corr[:-1]\n",
    "                self.h2.bias -= h2_corr[-1]\n",
    "                \n",
    "                o1_corr = self.o1.dh_dw_list * dL_dYp * LEARN_RATE\n",
    "                self.o1.weights -= o1_corr[:-1]\n",
    "                self.o1.bias -= o1_corr[-1]\n",
    "\n",
    "            if epoch % 10 == 0:\n",
    "                y_p_List = np.apply_along_axis(self.feedForward, 1, trainData)\n",
    "                metrics.append(((trueVals - y_p_List) ** 2).mean())\n",
    "        \n",
    "        return metrics"
   ]
  },
  {
   "cell_type": "code",
   "execution_count": 91,
   "metadata": {},
   "outputs": [],
   "source": [
    "def normalizeData():\n",
    "    meanVals = []\n",
    "    def inner(data, train = False):\n",
    "        nonlocal meanVals\n",
    "        if train:\n",
    "            meanVals = list(map(np.mean, zip(*data)))\n",
    "        for a in data:\n",
    "            for i, x in enumerate(a):\n",
    "                a[i] = x - meanVals[i]\n",
    "    return inner\n",
    "\n",
    "normalizeData = normalizeData()"
   ]
  },
  {
   "cell_type": "code",
   "execution_count": 92,
   "metadata": {},
   "outputs": [],
   "source": [
    "# Определим набор данных\n",
    "trainData = [\n",
    "    np.array([54.4, 165.1]),  # Алиса\n",
    "    np.array([65.44, 183]),   # Боб\n",
    "    np.array([62.2, 178]),   # Чарли\n",
    "    np.array([49, 152]),  # Диана\n",
    "]\n",
    "normalizeData(trainData, train=True)\n",
    "\n",
    "y_t = np.array([\n",
    "    0,  # Алиса\n",
    "    1,  # Боб\n",
    "    1,  # Чарли\n",
    "    0,  # Диана\n",
    "])"
   ]
  },
  {
   "cell_type": "code",
   "execution_count": 95,
   "metadata": {},
   "outputs": [
    {
     "data": {
      "image/png": "[encoded data removed]",
      "text/plain": [
       "<Figure size 640x480 with 1 Axes>"
      ]
     },
     "metadata": {},
     "output_type": "display_data"
    }
   ],
   "source": [
    "import matplotlib.pyplot as plt\n",
    "\n",
    "network = OurNeuralNetwork()\n",
    "metrics = network.train(trainData, y_t)\n",
    "\n",
    "plt.plot(range(0, EPOCHS_NUM, 10), metrics)\n",
    "plt.xlabel(\"Эпохи\")\n",
    "plt.ylabel(\"Ошибка\")\n",
    "plt.title(\"Зависимость ошибки от эпохи обучения\")\n",
    "plt.show()"
   ]
  },
  {
   "cell_type": "code",
   "execution_count": 99,
   "metadata": {},
   "outputs": [
    {
     "name": "stdout",
     "output_type": "stream",
     "text": [
      "Скорее всего, это мужчина.\n"
     ]
    }
   ],
   "source": [
    "weight = 75\n",
    "height = 179\n",
    "testData = np.array([[weight, height]])\n",
    "normalizeData(testData)\n",
    "\n",
    "res = network.feedForward(testData[0])\n",
    "\n",
    "print(f\"Скорее всего, это {'мужчина' if res > 0.75 else 'женщина' if res < 0.25 else 'непонятно кто'}.\")"
   ]
  }
 ],
 "metadata": {
  "kernelspec": {
   "display_name": ".venv",
   "language": "python",
   "name": "python3"
  },
  "language_info": {
   "codemirror_mode": {
    "name": "ipython",
    "version": 3
   },
   "file_extension": ".py",
   "mimetype": "text/x-python",
   "name": "python",
   "nbconvert_exporter": "python",
   "pygments_lexer": "ipython3",
   "version": "3.11.6"
  }
 },
 "nbformat": 4,
 "nbformat_minor": 2
}
